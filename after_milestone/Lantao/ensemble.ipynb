{
 "cells": [
  {
   "cell_type": "code",
   "execution_count": null,
   "metadata": {},
   "outputs": [],
   "source": [
    "from keras import applications\n",
    "from keras.applications.vgg16 import VGG16\n",
    "from keras.applications.vgg16 import preprocess_input\n",
    "from keras.models import Model,Input\n",
    "import os\n",
    "from keras.utils import np_utils\n",
    "from keras.preprocessing.image import ImageDataGenerator\n",
    "from keras.models import Sequential\n",
    "from keras.callbacks import CSVLogger\n",
    "from keras.models import Sequential\n",
    "from keras.layers.core import Flatten, Dense, Dropout,Reshape\n",
    "from keras.optimizers import SGD,Adam\n",
    "import keras.backend as K"
   ]
  },
  {
   "cell_type": "code",
   "execution_count": null,
   "metadata": {},
   "outputs": [],
   "source": [
    "from __future__ import print_function\n",
    "from keras.utils import np_utils\n",
    "from keras.preprocessing.image import ImageDataGenerator\n",
    "from keras.layers import Input, Dense, Dropout, Conv2D, MaxPooling2D, Flatten,Activation, Average,GlobalAveragePooling2D\n",
    "from keras.models import Model, load_model\n",
    "from keras.layers.normalization import BatchNormalization\n",
    "from keras.models import Sequential\n",
    "from keras.callbacks import CSVLogger"
   ]
  },
  {
   "cell_type": "code",
   "execution_count": null,
   "metadata": {},
   "outputs": [],
   "source": [
    "def DenseNet121(model_input):\n",
    "    base_model = applications.densenet.DenseNet121(weights='imagenet', include_top=False, input_shape=(227,227, 3),input_tensor=model_input)\n",
    "    last = base_model.output\n",
    "    x = Flatten()(last)\n",
    "    x = Dense(4096, activation='relu')(x)\n",
    "    x = Dropout(0.7)(x)\n",
    "    x = Dense(4096, activation='relu')(x)\n",
    "    x = Dropout(0.7)(x)\n",
    "    x = Dense(28, activation='relu')(x)\n",
    "    preds = Reshape((2,14))(x)\n",
    "    model = Model(base_model.input, preds)\n",
    "    return model"
   ]
  },
  {
   "cell_type": "code",
   "execution_count": null,
   "metadata": {},
   "outputs": [],
   "source": [
    "def ResNet50(model_input):\n",
    "    base_model = applications.resnet50.ResNet50(weights='imagenet', include_top=False, input_shape=(227,227, 3),input_tensor=model_input)\n",
    "    last = base_model.output\n",
    "    x = Flatten()(last)\n",
    "    x = Dense(4096, activation='relu')(x)\n",
    "    x = Dropout(0.7)(x)\n",
    "    x = Dense(4096, activation='relu')(x)\n",
    "    x = Dropout(0.7)(x)\n",
    "    x = Dense(28, activation='relu')(x)\n",
    "    preds = Reshape((2,14))(x)\n",
    "    model = Model(base_model.input, preds)\n",
    "    return model"
   ]
  },
  {
   "cell_type": "code",
   "execution_count": null,
   "metadata": {},
   "outputs": [],
   "source": [
    "model_input = Input(shape=(227,227,3))"
   ]
  },
  {
   "cell_type": "code",
   "execution_count": null,
   "metadata": {},
   "outputs": [],
   "source": [
    "densenet_model = ResNet50_2(model_input)"
   ]
  },
  {
   "cell_type": "code",
   "execution_count": null,
   "metadata": {},
   "outputs": [],
   "source": [
    "resnet_model = ResNet50(model_input)"
   ]
  },
  {
   "cell_type": "code",
   "execution_count": null,
   "metadata": {},
   "outputs": [],
   "source": [
    "resnet_model.load_weights('resnet50_t05_lr00005_v2.h5')\n",
    "densenet_model.load_weights('densenet121_t05_lr00005.h5')\n",
    "ensembled_models = [resnet_model,densenet_model]"
   ]
  },
  {
   "cell_type": "code",
   "execution_count": null,
   "metadata": {},
   "outputs": [],
   "source": [
    "def ensemble(models,model_input):\n",
    "    outputs = [model.outputs[0] for model in models]\n",
    "    y = Average()(outputs)\n",
    "    model = Model(model_input, y, name='ensemble')\n",
    "    return model"
   ]
  },
  {
   "cell_type": "code",
   "execution_count": null,
   "metadata": {},
   "outputs": [],
   "source": [
    "ensemble_model = ensemble(ensembled_models,model_input)"
   ]
  },
  {
   "cell_type": "code",
   "execution_count": null,
   "metadata": {},
   "outputs": [],
   "source": [
    "# custom loss function (L2 distance)\n",
    "def euclidean_distance_loss(y_true, y_pred):\n",
    "    return K.sqrt(K.sum(K.square(y_pred - y_true)))/64"
   ]
  },
  {
   "cell_type": "code",
   "execution_count": null,
   "metadata": {},
   "outputs": [],
   "source": [
    "thresh = 0.5\n",
    "def accuracy(y_true, y_pred):\n",
    "    \n",
    "    diff = K.square(y_true - y_pred)\n",
    "#     loss = K.sum(diff)\n",
    "    dist = K.sqrt(K.sum(diff, axis = 1))\t# (N, 2, 14) -> (N, 14)\n",
    "#     accuracy = tf.reduce_sum(tf.to_int32(tf.greater(1.0, dist))) / 8/14\n",
    "    torsor_xy = y_true[:,:,9] - y_true[:,:,2] # (N,2)\n",
    "    torsor_dist = K.sqrt(K.sum(K.square(torsor_xy),axis=1,keepdims=True)) #(N,1)\n",
    "    torsor_frac = thresh*torsor_dist\n",
    "    \n",
    "    accuracy = K.sum(K.cast(K.greater(torsor_frac,dist),dtype='float32'))/64/14\n",
    "    \n",
    "    return accuracy"
   ]
  },
  {
   "cell_type": "code",
   "execution_count": null,
   "metadata": {},
   "outputs": [],
   "source": [
    "# compile the model\n",
    "ensemble_model.compile(optimizer=Adam(lr=0.00005), loss=euclidean_distance_loss, metrics=[accuracy])"
   ]
  },
  {
   "cell_type": "code",
   "execution_count": null,
   "metadata": {},
   "outputs": [],
   "source": []
  },
  {
   "cell_type": "code",
   "execution_count": null,
   "metadata": {},
   "outputs": [],
   "source": [
    "from parse_lsp_data import *\n",
    "import tensorflow as tf"
   ]
  },
  {
   "cell_type": "code",
   "execution_count": null,
   "metadata": {},
   "outputs": [],
   "source": [
    "# get the data set\n",
    "train_list, train_label, val_list, val_label, test_list, test_label = getLSPDataset(0.8, 0.1)"
   ]
  },
  {
   "cell_type": "code",
   "execution_count": null,
   "metadata": {},
   "outputs": [],
   "source": [
    "# print some information\n",
    "train_X = train_list\t# (N, 227, 227, 3)\n",
    "train_Y = train_label\t# (N, 2, 14)\n",
    "print(\"train X: \", train_X.shape, \"val X: \", val_list.shape, \"test X: \", test_list.shape)\n",
    "print(\"train Y: \", train_Y.shape, \"val Y: \", val_label.shape, \"test Y: \", test_label.shape)"
   ]
  },
  {
   "cell_type": "code",
   "execution_count": null,
   "metadata": {},
   "outputs": [],
   "source": [
    "# evaluation\n",
    "with tf.device('/device:GPU:0'):\n",
    "    loss,acc = ensemble_model.evaluate(test_list, test_label,batch_size=64)"
   ]
  },
  {
   "cell_type": "code",
   "execution_count": null,
   "metadata": {},
   "outputs": [],
   "source": [
    "print(loss)\n",
    "print(acc)"
   ]
  },
  {
   "cell_type": "code",
   "execution_count": null,
   "metadata": {},
   "outputs": [],
   "source": [
    "pred = ensemble_model.predict(test_list)"
   ]
  },
  {
   "cell_type": "code",
   "execution_count": null,
   "metadata": {},
   "outputs": [],
   "source": [
    "from drawLines_v2 import drawLines\n",
    "# usage:\n",
    "index = 6\n",
    "drawLines(test_list[index].copy(),test_label[index].copy(),pred[index].copy())"
   ]
  },
  {
   "cell_type": "code",
   "execution_count": null,
   "metadata": {},
   "outputs": [],
   "source": []
  }
 ],
 "metadata": {
  "kernelspec": {
   "display_name": "Python 3",
   "language": "python",
   "name": "python3"
  },
  "language_info": {
   "codemirror_mode": {
    "name": "ipython",
    "version": 3
   },
   "file_extension": ".py",
   "mimetype": "text/x-python",
   "name": "python",
   "nbconvert_exporter": "python",
   "pygments_lexer": "ipython3",
   "version": "3.6.4"
  }
 },
 "nbformat": 4,
 "nbformat_minor": 2
}
