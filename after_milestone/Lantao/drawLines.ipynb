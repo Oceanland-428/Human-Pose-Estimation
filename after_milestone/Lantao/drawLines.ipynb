{
 "cells": [
  {
   "cell_type": "code",
   "execution_count": 1,
   "metadata": {},
   "outputs": [],
   "source": [
    "def drawLines(image,original_labels,predict_labels,lineThickness = 2,color_origin =(0,255,0),color_pred =(0,0,255)):\n",
    "    '''\n",
    "    image is a (227*227*3) image\n",
    "    original_labels is a 2*14 original label\n",
    "    predict_labels is a 2*14 predicted label\n",
    "    '''\n",
    "    import matplotlib.pyplot as plt\n",
    "    import cv2 as cv\n",
    "    original = original_labels\n",
    "    predict = predict_labels\n",
    "    # original label\n",
    "    a = cv.line(image,(int(original[0,0]),int(original[1,0])),(int(original[0,1]),int(original[1,1])),color_origin,lineThickness)\n",
    "    a = cv.line(image,(int(original[0,1]),int(original[1,1])),(int(original[0,2]),int(original[1,2])),color_origin,lineThickness)\n",
    "    a = cv.line(image,(int(original[0,2]),int(original[1,2])),(int(original[0,3]),int(original[1,3])),color_origin,lineThickness)\n",
    "    a = cv.line(image,(int(original[0,3]),int(original[1,3])),(int(original[0,4]),int(original[1,4])),color_origin,lineThickness)\n",
    "    a = cv.line(image,(int(original[0,4]),int(original[1,4])),(int(original[0,5]),int(original[1,5])),color_origin,lineThickness)\n",
    "#     a = cv.line(image,(int(original[0,5]),int(original[1,5])),(int(original[0,6]),int(original[1,6])),color_origin,lineThickness)\n",
    "    a = cv.line(image,(int(original[0,6]),int(original[1,6])),(int(original[0,7]),int(original[1,7])),color_origin,lineThickness)\n",
    "    a = cv.line(image,(int(original[0,7]),int(original[1,7])),(int(original[0,8]),int(original[1,8])),color_origin,lineThickness)\n",
    "    a = cv.line(image,(int(original[0,8]),int(original[1,8])),(int(original[0,9]),int(original[1,9])),color_origin,lineThickness)\n",
    "    a = cv.line(image,(int(original[0,9]),int(original[1,9])),(int(original[0,10]),int(original[1,10])),color_origin,lineThickness)\n",
    "    a = cv.line(image,(int(original[0,10]),int(original[1,10])),(int(original[0,11]),int(original[1,11])),color_origin,lineThickness)\n",
    "#     a = cv.line(image,(int(original[0,11]),int(original[1,11])),(int(original[0,12]),int(original[1,12])),color_origin,lineThickness)\n",
    "    a = cv.line(image,(int(original[0,12]),int(original[1,12])),(int(original[0,13]),int(original[1,13])),color_origin,lineThickness)\n",
    "        \n",
    "    # predicted label\n",
    "    a = cv.line(image,(int(predict[0,0]),int(predict[1,0])),(int(predict[0,1]),int(predict[1,1])),color_pred,lineThickness)\n",
    "    a = cv.line(image,(int(predict[0,1]),int(predict[1,1])),(int(predict[0,2]),int(predict[1,2])),color_pred,lineThickness)\n",
    "    a = cv.line(image,(int(predict[0,2]),int(predict[1,2])),(int(predict[0,3]),int(predict[1,3])),color_pred,lineThickness)\n",
    "    a = cv.line(image,(int(predict[0,3]),int(predict[1,3])),(int(predict[0,4]),int(predict[1,4])),color_pred,lineThickness)\n",
    "    a = cv.line(image,(int(predict[0,4]),int(predict[1,4])),(int(predict[0,5]),int(predict[1,5])),color_pred,lineThickness)\n",
    "#     a = cv.line(image,(int(predict[0,5]),int(predict[1,5])),(int(predict[0,6]),int(predict[1,6])),color_pred,lineThickness)\n",
    "    a = cv.line(image,(int(predict[0,6]),int(predict[1,6])),(int(predict[0,7]),int(predict[1,7])),color_pred,lineThickness)\n",
    "    a = cv.line(image,(int(predict[0,7]),int(predict[1,7])),(int(predict[0,8]),int(predict[1,8])),color_pred,lineThickness)\n",
    "    a = cv.line(image,(int(predict[0,8]),int(predict[1,8])),(int(predict[0,9]),int(predict[1,9])),color_pred,lineThickness)\n",
    "    a = cv.line(image,(int(predict[0,9]),int(predict[1,9])),(int(predict[0,10]),int(predict[1,10])),color_pred,lineThickness)\n",
    "    a = cv.line(image,(int(predict[0,10]),int(predict[1,10])),(int(predict[0,11]),int(predict[1,11])),color_pred,lineThickness)\n",
    "#     a = cv.line(image,(int(predict[0,11]),int(predict[1,11])),(int(predict[0,12]),int(predict[1,12])),color_pred,lineThickness)\n",
    "    a = cv.line(image,(int(predict[0,12]),int(predict[1,12])),(int(predict[0,13]),int(predict[1,13])),color_pred,lineThickness)\n",
    "    \n",
    "    plt.imshow(image)"
   ]
  },
  {
   "cell_type": "code",
   "execution_count": null,
   "metadata": {},
   "outputs": [],
   "source": [
    "# usage:\n",
    "# from drawLines import drawLines\n",
    "# drawLines(test_list[0].copy(),test_label[0].copy(),pred[0].copy())"
   ]
  }
 ],
 "metadata": {
  "kernelspec": {
   "display_name": "Python 3",
   "language": "python",
   "name": "python3"
  },
  "language_info": {
   "codemirror_mode": {
    "name": "ipython",
    "version": 3
   },
   "file_extension": ".py",
   "mimetype": "text/x-python",
   "name": "python",
   "nbconvert_exporter": "python",
   "pygments_lexer": "ipython3",
   "version": "3.6.4"
  }
 },
 "nbformat": 4,
 "nbformat_minor": 2
}
