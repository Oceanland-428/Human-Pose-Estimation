{
 "cells": [
  {
   "cell_type": "code",
   "execution_count": 2,
   "metadata": {
    "collapsed": true
   },
   "outputs": [],
   "source": [
    "import argparse\n",
    "import glob\n",
    "import numpy as np\n",
    "import re\n",
    "import matplotlib.image as img\n",
    "from scipy import misc\n",
    "import matplotlib.pyplot as plt\n",
    "import skimage.transform\n",
    "from __future__ import absolute_import\n",
    "from __future__ import division\n",
    "from __future__ import print_function\n",
    "from __future__ import unicode_literals\n",
    "from os.path import basename as b\n",
    "from scipy.io import loadmat\n",
    "import matplotlib.pyplot as plt\n",
    "import cv2 as cv"
   ]
  },
  {
   "cell_type": "code",
   "execution_count": 3,
   "metadata": {
    "collapsed": true
   },
   "outputs": [],
   "source": [
    "def compute_dimy(Y_pred):\n",
    "    '''\n",
    "    compute the dim(y) mentioned in the paper\n",
    "    \n",
    "    input: Y_pred a 2*14 matrix indicating predicted joints of an image\n",
    "    \n",
    "    return: dim(y) of the bounding box\n",
    "    '''\n",
    "    left_shoulder_index = 9\n",
    "    right_hip_index = 2\n",
    "    \n",
    "    distance = np.sqrt(np.sum((Y_pred[:,right_hip_index]-Y_pred[:,left_shoulder_index])**2))\n",
    "    return distance"
   ]
  },
  {
   "cell_type": "code",
   "execution_count": 4,
   "metadata": {
    "collapsed": true
   },
   "outputs": [],
   "source": [
    "# # usage & test correctness\n",
    "# dimY = compute_dimy(test_label)\n",
    "# print(dimY)"
   ]
  },
  {
   "cell_type": "code",
   "execution_count": 5,
   "metadata": {
    "collapsed": true
   },
   "outputs": [],
   "source": [
    "def get_reshape_size(Y_pred,dimY,sigma=2):\n",
    "    '''\n",
    "    compute the left width, left hight, right weight, right hight of the bounding box at each y (2*1) in Y (2*14) \n",
    "    \n",
    "    input: Y is a 2*14 matrix(vector) indicating the (x,y) corrdinates of an predicted joint\n",
    "           dimY is the size of the bounding box, see equation 7 in the deeppose paper\n",
    "           sigma is the coefficient in front of dimY\n",
    "           \n",
    "    return reshape_size which is the left width, left hight, right weight, right hight of the bounding box at each y. \n",
    "    So reshape_size has shape 4*14 for lsp dataset\n",
    "    '''\n",
    "    # get the shape of Y, for lsp dataset it is 2*14\n",
    "    yshape0,yshape1 = Y_pred.shape\n",
    "    # set up the shape of return variable (reshape_size)\n",
    "    reshape_size = np.zeros((4,yshape1))\n",
    "    \n",
    "    dimY = sigma*dimY\n",
    "    # loop through every 2*1 element in Y\n",
    "    for i in range(yshape1):\n",
    "        # get x and y coordinates of a ith joint\n",
    "        x = Y_pred[0,i]\n",
    "        y = Y_pred[1,i]\n",
    "        \n",
    "        # get the size after reshape\n",
    "        x_reshape_left = x-dimY/2\n",
    "        x_reshape_right = x+dimY/2\n",
    "        y_reshape_left = y-dimY/2\n",
    "        y_reshape_right = y+dimY/2\n",
    "        \n",
    "        # adjust the size, cannot be out of bound\n",
    "        if x_reshape_left<0:\n",
    "            x_reshape_left = 0\n",
    "        if x_reshape_right>227:\n",
    "            x_reshape_right = 227\n",
    "        if y_reshape_left<0:\n",
    "            y_reshape_left = 0\n",
    "        if y_reshape_right>227:\n",
    "            y_reshape_right = 227\n",
    "        \n",
    "        temp_size_i = np.array([x_reshape_left,x_reshape_right,y_reshape_left,y_reshape_right]).T\n",
    "        reshape_size[:,i] = temp_size_i\n",
    "    return reshape_size"
   ]
  },
  {
   "cell_type": "code",
   "execution_count": 6,
   "metadata": {
    "collapsed": true
   },
   "outputs": [],
   "source": [
    "# # usage & test correctness\n",
    "# reshape_size = get_reshape_size(test_label,dimY)\n",
    "# print(reshape_size.shape)"
   ]
  },
  {
   "cell_type": "code",
   "execution_count": 7,
   "metadata": {
    "collapsed": true
   },
   "outputs": [],
   "source": [
    "def image_crop(image,Y_pred,reshape_size):\n",
    "    '''\n",
    "    Input: image is a single image with shape 227*227*3\n",
    "           Y_pred is of shape 2*14 for lsp dataset\n",
    "           reshape_size is of shape 4*14 for lsp dataset\n",
    "           \n",
    "    Return: crop_image_list is a list of images that being croped. len(crop_image_list) is 14 for lsp dataset\n",
    "            actual_reshape_size is a matrix of shape 2*14 for lsp dataset indicating the actual size of croped images\n",
    "    '''\n",
    "    # a list of crop image.First the size of each image depends on reshape_size, then each image will be rescaled to 227*227*3\n",
    "    crop_image_list = []\n",
    "    \n",
    "    # get the shape of Y, for lsp dataset it is 2*14\n",
    "    yshape0,yshape1 = Y_pred.shape\n",
    "    \n",
    "    # a matrix of actual reshape weight and height. It is of shape 2*14 for lsp dataset\n",
    "    actual_reshape_size = np.zeros((2,yshape1))\n",
    "    \n",
    "    \n",
    "    for i in range(yshape1):\n",
    "        # crop image. Notice each image has to receive integer value. So cache the actual crop image size before rescale\n",
    "        temp_image = image[int(reshape_size[0,i]):int(reshape_size[1,i]),int(reshape_size[2,i]):int(reshape_size[3,i])]\n",
    "        # get the actual image size\n",
    "        temp_image_weight, temp_image_height,_ = temp_image.shape\n",
    "        actual_reshape_size[0,i] = temp_image_weight\n",
    "        actual_reshape_size[1,i] = temp_image_height\n",
    "        \n",
    "        # append to list\n",
    "        crop_image_list.append(temp_image)\n",
    "    \n",
    "    return crop_image_list,actual_reshape_size"
   ]
  },
  {
   "cell_type": "code",
   "execution_count": 8,
   "metadata": {
    "collapsed": true
   },
   "outputs": [],
   "source": [
    "# # usage & test case\n",
    "# crop_image_list,actual_reshape_size = image_crop(test_image,test_label,reshape_size)"
   ]
  },
  {
   "cell_type": "code",
   "execution_count": 9,
   "metadata": {
    "collapsed": true
   },
   "outputs": [],
   "source": [
    "def scale_label(label, original_height, original_width):\n",
    "    label[0, :] *= (227 / float(original_width))\n",
    "    label[1,:] *= (227 / float(original_height))\n",
    "    return label"
   ]
  },
  {
   "cell_type": "code",
   "execution_count": 10,
   "metadata": {
    "collapsed": true
   },
   "outputs": [],
   "source": [
    "def scale_image(image):\n",
    "    # scale the image to 227*227\n",
    "    scaled_image = misc.imresize(image, (227, 227), interp='bicubic')\n",
    "    return scaled_image"
   ]
  },
  {
   "cell_type": "code",
   "execution_count": 11,
   "metadata": {
    "collapsed": true
   },
   "outputs": [],
   "source": [
    "def images_crop(images,Y_preds,Y_trues):\n",
    "    '''\n",
    "    Inputs: images is a list of length N and each element has shape 227*227*3\n",
    "            Y_preds is a matrix of shape(N,2,14) for lsp dataset\n",
    "            Y_trues is a list of length N and each element has shape 2*14 for lsp dataset\n",
    "            \n",
    "    Return: crop_image_matrix is a matrix of shape(N,14,227,227,3) in lsp dataset\n",
    "            actual_reshape_size_matrix is a matrix of shape(N,14,2,14) in lsp dataset. It indidcates the original shape of the bounding box\n",
    "            scaled_preds_label is a matrix of shape(N,14,2,14) in lsp dataset indicating the predicted labels after resclae of the bounding box\n",
    "            scaled_trues_label is a matrix of shape(N,14,2,14) in lsp dataset indicating the true labels after resclae of the bounding box\n",
    "    '''\n",
    "    N,C,length = Y_preds.shape\n",
    "    \n",
    "    crop_image_matrix = np.zeros((N,length,227,227,3))\n",
    "    actual_reshape_size_matrix = np.zeros((N,2,length))\n",
    "    scaled_preds_label = np.zeros((N,length,2,length))\n",
    "    scaled_trues_label = np.zeros((N,length,2,length))\n",
    "    \n",
    "    # loop through every image and do image crop\n",
    "    for i in range(N):\n",
    "        \n",
    "        pred_label = Y_preds[i]\n",
    "        true_label = Y_trues[i]\n",
    "        \n",
    "        dimY = compute_dimy(pred_label)\n",
    "        reshape_size = get_reshape_size(pred_label,dimY)\n",
    "        \n",
    "        crop_image_list,actual_reshape_size = image_crop(images[i],pred_label,reshape_size)\n",
    "        \n",
    "        # store in the actual_reshape_size_matrix\n",
    "        actual_reshape_size_matrix[i] = actual_reshape_size\n",
    "        \n",
    "        # loop through every croped image and rescale to 227*227*3 and also rescale the true and predicted label accordingly\n",
    "        for j in range(len(crop_image_list)):\n",
    "            \n",
    "            single_image = crop_image_list[j]\n",
    "            \n",
    "            original_width = actual_reshape_size[0,j]\n",
    "            original_height = actual_reshape_size[1,j]\n",
    "            \n",
    "            scaled_image = scale_image(single_image)\n",
    "            scaled_label_pred = scale_label(pred_label,original_width,original_height)\n",
    "            scaled_true_pred = scale_label(true_label,original_width,original_height)\n",
    "            \n",
    "            # store everything\n",
    "            \n",
    "            crop_image_matrix[i,j] = scaled_image\n",
    "            scaled_preds_label[i,j] = scaled_label_pred\n",
    "            scaled_trues_label[i,j] = scaled_true_pred\n",
    "            \n",
    "    return crop_image_matrix,actual_reshape_size_matrix,scaled_preds_label,scaled_trues_label"
   ]
  },
  {
   "cell_type": "code",
   "execution_count": null,
   "metadata": {
    "collapsed": true
   },
   "outputs": [],
   "source": [
    "# usage:\n",
    "# crop_image_matrix,actual_reshape_size_matrix,scaled_preds_label,scaled_trues_label = images_crop(test_list,y_preds,test_label)"
   ]
  }
 ],
 "metadata": {
  "kernelspec": {
   "display_name": "Python 3",
   "language": "python",
   "name": "python3"
  },
  "language_info": {
   "codemirror_mode": {
    "name": "ipython",
    "version": 3
   },
   "file_extension": ".py",
   "mimetype": "text/x-python",
   "name": "python",
   "nbconvert_exporter": "python",
   "pygments_lexer": "ipython3",
   "version": "3.6.1"
  }
 },
 "nbformat": 4,
 "nbformat_minor": 2
}
