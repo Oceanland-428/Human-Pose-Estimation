{
 "cells": [
  {
   "cell_type": "code",
   "execution_count": 152,
   "metadata": {
    "collapsed": true
   },
   "outputs": [],
   "source": [
    "import argparse\n",
    "import glob\n",
    "import numpy as np\n",
    "import re\n",
    "import matplotlib.image as img\n",
    "from scipy import misc\n",
    "import matplotlib.pyplot as plt\n",
    "import skimage.transform\n",
    "from __future__ import absolute_import\n",
    "from __future__ import division\n",
    "from __future__ import print_function\n",
    "from __future__ import unicode_literals\n",
    "from os.path import basename as b\n",
    "from scipy.io import loadmat\n",
    "import random"
   ]
  },
  {
   "cell_type": "code",
   "execution_count": 153,
   "metadata": {
    "collapsed": true
   },
   "outputs": [],
   "source": [
    "def prepare_image(original_image_path):\n",
    "    image = misc.imread(original_image_path)\n",
    "    # scale the image to 227*227\n",
    "    scaled_image = misc.imresize(image, (227, 227), interp='bicubic')\n",
    "    return scaled_image, image.shape[0], image.shape[1]"
   ]
  },
  {
   "cell_type": "code",
   "execution_count": 154,
   "metadata": {
    "collapsed": true
   },
   "outputs": [],
   "source": [
    "def scale_label(label, original_height, original_width):\n",
    "    label[0, :] *= (227 / float(original_width))\n",
    "    label[1,:] *= (227 / float(original_height))\n",
    "    return label"
   ]
  },
  {
   "cell_type": "code",
   "execution_count": 157,
   "metadata": {
    "collapsed": true
   },
   "outputs": [],
   "source": [
    "def getFLICData(train_set_ratio=0.8,validation_set_ratio = 0.1):\n",
    "    # load in examples.mat\n",
    "    examples = loadmat('examples.mat')\n",
    "    examples = examples['examples'][0]\n",
    "    \n",
    "    # just for reference, not used in the following code\n",
    "    joint_ids = ['lsho', 'lelb', 'lwri', 'rsho', 'relb', 'rwri', 'lhip',\n",
    "                 'lkne', 'lank', 'rhip', 'rkne', 'rank', 'leye', 'reye',\n",
    "                 'lear', 'rear', 'nose', 'msho', 'mhip', 'mear', 'mtorso',\n",
    "                 'mluarm', 'mruarm', 'mllarm', 'mrlarm', 'mluleg', 'mruleg',\n",
    "                 'mllleg', 'mrlleg']\n",
    "    available_index = [0,1,2,3,4,5,6,9,12,13,16]\n",
    "    \n",
    "    image_list = []\n",
    "    label_list = []\n",
    "    \n",
    "    for i, example in enumerate(examples):\n",
    "        joint_matrix = example[2]\n",
    "        joint_matrix = joint_matrix[:,available_index]\n",
    "        # get the label which is the joint_matrix\n",
    "        label = joint_matrix\n",
    "\n",
    "        # extract the image information\n",
    "        image_name = str(example[3][0])\n",
    "        image_path = './images/'+image_name\n",
    "        image, or_height, or_width = prepare_image(image_path)\n",
    "\n",
    "        label = scale_label(label,or_height,or_width)\n",
    "\n",
    "        image_list.append(image)\n",
    "        label_list.append(label)\n",
    "    \n",
    "    # shuffle the data\n",
    "    c = list(zip(image_list, label_list))\n",
    "    random.shuffle(c)\n",
    "    image_list, label_list = zip(*c)\n",
    "    image_list = list(image_list)\n",
    "    label_list = list(label_list)\n",
    "    \n",
    "    train_set_ratio=0.8\n",
    "    validation_set_ratio = 0.1\n",
    "    # get the training, val and test set indexes\n",
    "    train_validation_split = int(len(indexs)*train_set_ratio)\n",
    "    validation_test_split = int(len(indexs)*(train_set_ratio+validation_set_ratio))\n",
    "    train_list = image_list[:train_validation_split]\n",
    "    train_label = label_list[:train_validation_split]\n",
    "    val_list = image_list[train_validation_split:validation_test_split]\n",
    "    val_label = label_list[train_validation_split:validation_test_split]\n",
    "    test_list = image_list[validation_test_split:]\n",
    "    test_label = label_list[validation_test_split:]\n",
    "    \n",
    "    return train_list,train_label,val_list,val_label,test_list,test_label"
   ]
  },
  {
   "cell_type": "code",
   "execution_count": 158,
   "metadata": {},
   "outputs": [],
   "source": [
    "#train_list,train_label,val_list,val_label,test_list,test_label = getFLICData()"
   ]
  },
  {
   "cell_type": "code",
   "execution_count": null,
   "metadata": {
    "collapsed": true
   },
   "outputs": [],
   "source": []
  }
 ],
 "metadata": {
  "kernelspec": {
   "display_name": "Python 3",
   "language": "python",
   "name": "python3"
  },
  "language_info": {
   "codemirror_mode": {
    "name": "ipython",
    "version": 3
   },
   "file_extension": ".py",
   "mimetype": "text/x-python",
   "name": "python",
   "nbconvert_exporter": "python",
   "pygments_lexer": "ipython3",
   "version": "3.6.1"
  }
 },
 "nbformat": 4,
 "nbformat_minor": 2
}
