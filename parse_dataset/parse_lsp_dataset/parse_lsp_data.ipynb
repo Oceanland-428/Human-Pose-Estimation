{
 "cells": [
  {
   "cell_type": "code",
   "execution_count": 95,
   "metadata": {
    "collapsed": true
   },
   "outputs": [],
   "source": [
    "import argparse\n",
    "import glob\n",
    "import numpy as np\n",
    "import re\n",
    "import matplotlib.image as img\n",
    "from scipy import misc\n",
    "import matplotlib.pyplot as plt\n",
    "import skimage.transform\n",
    "from __future__ import absolute_import\n",
    "from __future__ import division\n",
    "from __future__ import print_function\n",
    "from __future__ import unicode_literals\n",
    "from os.path import basename as b\n",
    "from scipy.io import loadmat"
   ]
  },
  {
   "cell_type": "code",
   "execution_count": 111,
   "metadata": {
    "collapsed": true
   },
   "outputs": [],
   "source": [
    "def prepare_image(original_image_path):\n",
    "    image = misc.imread(original_image_path)\n",
    "    # scale the image to 227*227\n",
    "    scaled_image = misc.imresize(image, (227, 227), interp='bicubic')\n",
    "    return scaled_image, image.shape[0], image.shape[1]"
   ]
  },
  {
   "cell_type": "code",
   "execution_count": 112,
   "metadata": {
    "collapsed": true
   },
   "outputs": [],
   "source": [
    "def scale_label(label, original_height, original_width):\n",
    "    label[0, :] *= (227 / float(original_width))\n",
    "    label[1,:] *= (227 / float(original_height))\n",
    "    return label"
   ]
  },
  {
   "cell_type": "code",
   "execution_count": 113,
   "metadata": {
    "collapsed": true
   },
   "outputs": [],
   "source": [
    "def generate_dataset(image_paths,labels,dataset):\n",
    "    num_examples = image_paths.shape[0]\n",
    "    image_list = []\n",
    "    label_list = []\n",
    "    print('Start to process '+ dataset + ' dataset')\n",
    "    for index in range(num_examples):\n",
    "        image, or_height, or_width = prepare_image(image_paths[index])\n",
    "        image_list.append(image)\n",
    "        label = scale_label(labels[index], or_height, or_width)\n",
    "        label_list.append(label)\n",
    "    print('Done processing the ' + dataset + ' dataset')\n",
    "    return image_list,label_list"
   ]
  },
  {
   "cell_type": "code",
   "execution_count": 114,
   "metadata": {
    "collapsed": true
   },
   "outputs": [],
   "source": [
    "def getLSPDataset(train_set_ratio=0.8,validation_set_ratio = 0.1):\n",
    "    print('Resizing and packing images and labels to lists.\\n')\n",
    "    np.random.seed(1701)  # to fix test set\n",
    "    # load the dataset. Make sure you put the joints.mat in the same folder as this .ipynb or .py program\n",
    "    # otherwise you can change the path here\n",
    "    joints = loadmat('joints.mat')\n",
    "    # transpose the shape to N*C*number of features, in this case it is 2000*3*14\n",
    "    joints = joints['joints'].transpose(2, 0, 1)\n",
    "    \n",
    "    # I saw some code such as this one: https://github.com/samitok/deeppose/blob/master/Codes/Original/GetLSPData.py only extracts two joints\n",
    "    # which is Right ankle and Right knee\n",
    "    # this one as well: https://github.com/mitmul/deeppose/blob/master/datasets/lsp_dataset.py\n",
    "    # invisible_joints = joints[:, :, 2] < 0.5\n",
    "    # joints[invisible_joints] = 0\n",
    "    # joints = joints[..., :2]\n",
    "    \n",
    "    # get the list of images names. Make sure you put the images directory in the same folder as this .ipynb or .py program\n",
    "    # otherwise you can change the path here\n",
    "    image_list = np.asarray(sorted(glob.glob('./images/*.jpg')))\n",
    "    \n",
    "    # get image indexes\n",
    "    image_indexes = list(range(0, len(image_list)))\n",
    "    \n",
    "    # random shuffle the data\n",
    "    # shuffle the index and use the indexes to select images. So it is equivalent to shuffle images\n",
    "    np.random.shuffle(image_indexes)\n",
    "   \n",
    "    # get the training, val and test set indexes\n",
    "    train_validation_split = int(len(image_list)*train_set_ratio)\n",
    "    validation_test_split = int(len(image_list)*(train_set_ratio+validation_set_ratio))\n",
    "    train_indexes = np.asarray(image_indexes[:train_validation_split])\n",
    "    validation_indexes = np.asarray(image_indexes[train_validation_split:validation_test_split])\n",
    "    test_indexes = np.asarray(image_indexes[validation_test_split:])\n",
    "\n",
    "    # generate label\n",
    "    train_list,train_label = generate_dataset(image_list[train_indexes],joints[train_indexes],'training')\n",
    "    val_list,val_label = generate_dataset(image_list[validation_indexes],joints[validation_indexes],'validation')\n",
    "    test_list,test_label = generate_dataset(image_list[test_indexes],joints[test_indexes],'test')\n",
    "    \n",
    "    return train_list,train_label,val_list,val_label,test_list,test_label"
   ]
  },
  {
   "cell_type": "code",
   "execution_count": 115,
   "metadata": {},
   "outputs": [
    {
     "name": "stdout",
     "output_type": "stream",
     "text": [
      "Resizing and packing images and labels to lists.\n",
      "\n",
      "Start to process training dataset\n",
      "Done processing the training dataset\n",
      "Start to process validation dataset\n",
      "Done processing the validation dataset\n",
      "Start to process test dataset\n",
      "Done processing the test dataset\n"
     ]
    }
   ],
   "source": [
    "#train_list,train_label,val_list,val_label,test_list,test_label = getLSPDataset()"
   ]
  },
  {
   "cell_type": "code",
   "execution_count": null,
   "metadata": {
    "collapsed": true
   },
   "outputs": [],
   "source": []
  },
  {
   "cell_type": "code",
   "execution_count": 42,
   "metadata": {
    "collapsed": true
   },
   "outputs": [],
   "source": []
  },
  {
   "cell_type": "code",
   "execution_count": 45,
   "metadata": {},
   "outputs": [],
   "source": []
  },
  {
   "cell_type": "code",
   "execution_count": 46,
   "metadata": {
    "collapsed": true
   },
   "outputs": [],
   "source": []
  },
  {
   "cell_type": "code",
   "execution_count": 78,
   "metadata": {
    "collapsed": true
   },
   "outputs": [],
   "source": []
  },
  {
   "cell_type": "code",
   "execution_count": 87,
   "metadata": {
    "collapsed": true
   },
   "outputs": [],
   "source": []
  },
  {
   "cell_type": "code",
   "execution_count": null,
   "metadata": {
    "collapsed": true
   },
   "outputs": [],
   "source": []
  },
  {
   "cell_type": "code",
   "execution_count": null,
   "metadata": {
    "collapsed": true
   },
   "outputs": [],
   "source": []
  },
  {
   "cell_type": "code",
   "execution_count": null,
   "metadata": {
    "collapsed": true
   },
   "outputs": [],
   "source": []
  },
  {
   "cell_type": "code",
   "execution_count": null,
   "metadata": {
    "collapsed": true
   },
   "outputs": [],
   "source": []
  },
  {
   "cell_type": "code",
   "execution_count": null,
   "metadata": {
    "collapsed": true
   },
   "outputs": [],
   "source": []
  },
  {
   "cell_type": "code",
   "execution_count": null,
   "metadata": {
    "collapsed": true
   },
   "outputs": [],
   "source": []
  },
  {
   "cell_type": "code",
   "execution_count": 1,
   "metadata": {
    "collapsed": true
   },
   "outputs": [],
   "source": []
  },
  {
   "cell_type": "code",
   "execution_count": 2,
   "metadata": {
    "collapsed": true
   },
   "outputs": [],
   "source": [
    "# not useful, just for testing implementation purpose"
   ]
  },
  {
   "cell_type": "code",
   "execution_count": 5,
   "metadata": {
    "collapsed": true
   },
   "outputs": [],
   "source": [
    "np.random.seed(1701)\n",
    "joints = loadmat('joints.mat')\n",
    "joints = joints['joints'].transpose(2, 0, 1)"
   ]
  },
  {
   "cell_type": "code",
   "execution_count": 8,
   "metadata": {
    "collapsed": true
   },
   "outputs": [],
   "source": [
    "N_test = int(len(joints) * 0.1)"
   ]
  },
  {
   "cell_type": "code",
   "execution_count": 9,
   "metadata": {
    "collapsed": true
   },
   "outputs": [],
   "source": [
    "perm = np.random.permutation(int(len(joints)))[:N_test].tolist()"
   ]
  },
  {
   "cell_type": "code",
   "execution_count": 13,
   "metadata": {
    "collapsed": true
   },
   "outputs": [],
   "source": [
    "fp_train = open('./train_joints.csv', 'w')\n",
    "fp_test = open('./test_joints.csv' , 'w')\n",
    "for img_fn in sorted(glob.glob('./images/*.jpg')):\n",
    "    index = int(re.search('im([0-9]+)', b(img_fn)).groups()[0]) - 1\n",
    "    str_j = [str(j) if j > 0 else '-1'\n",
    "              for j in joints[index].flatten().tolist()]\n",
    "    out_list = [b(img_fn)]\n",
    "    out_list.extend(str_j)\n",
    "    out_str = ','.join(out_list)\n",
    "    if index in perm:\n",
    "        print(out_str, file=fp_test)\n",
    "    else:\n",
    "        print(out_str, file=fp_train)\n",
    "\n",
    "fp_train.close()\n",
    "fp_test.close()"
   ]
  },
  {
   "cell_type": "code",
   "execution_count": 25,
   "metadata": {},
   "outputs": [
    {
     "name": "stdout",
     "output_type": "stream",
     "text": [
      "[  29.74645941   30.5501068    28.94281202   43.00664135   42.20299396\n",
      "   42.60481765   24.52275137   15.28080638   24.12092767   50.64129155\n",
      "   52.65041003   53.85588112   38.184757     38.9884044   143.34544031\n",
      "  117.22690013   84.67918082   85.08100452  111.1995447   132.89802424\n",
      "   52.9351089    62.98070128   42.08586913   44.09498761   58.96246433\n",
      "   58.96246433   36.05851371   15.56550525    0.            0.            0.\n",
      "    0.            0.            0.            0.            0.            0.\n",
      "    0.            0.            0.            0.            0.        ]\n"
     ]
    }
   ],
   "source": [
    "print(joints[0].flatten())"
   ]
  },
  {
   "cell_type": "code",
   "execution_count": null,
   "metadata": {
    "collapsed": true
   },
   "outputs": [],
   "source": []
  },
  {
   "cell_type": "code",
   "execution_count": 3,
   "metadata": {
    "collapsed": true
   },
   "outputs": [],
   "source": []
  },
  {
   "cell_type": "code",
   "execution_count": 4,
   "metadata": {
    "collapsed": true
   },
   "outputs": [],
   "source": [
    "image = img.imread('./images/im0001.jpg')"
   ]
  },
  {
   "cell_type": "code",
   "execution_count": 5,
   "metadata": {},
   "outputs": [
    {
     "name": "stdout",
     "output_type": "stream",
     "text": [
      "(160, 70, 3)\n"
     ]
    }
   ],
   "source": [
    "print(image.shape)"
   ]
  },
  {
   "cell_type": "code",
   "execution_count": 6,
   "metadata": {
    "collapsed": true
   },
   "outputs": [],
   "source": []
  },
  {
   "cell_type": "code",
   "execution_count": 7,
   "metadata": {
    "collapsed": true
   },
   "outputs": [],
   "source": [
    "face = misc.imread('./images/im0001.jpg')"
   ]
  },
  {
   "cell_type": "code",
   "execution_count": 8,
   "metadata": {},
   "outputs": [
    {
     "name": "stdout",
     "output_type": "stream",
     "text": [
      "(160, 70, 3)\n"
     ]
    }
   ],
   "source": [
    "print(face.shape)"
   ]
  },
  {
   "cell_type": "code",
   "execution_count": 13,
   "metadata": {
    "collapsed": true
   },
   "outputs": [],
   "source": []
  },
  {
   "cell_type": "code",
   "execution_count": 24,
   "metadata": {},
   "outputs": [
    {
     "data": {
      "text/plain": [
       "<matplotlib.image.AxesImage at 0x23fe0a20198>"
      ]
     },
     "execution_count": 24,
     "metadata": {},
     "output_type": "execute_result"
    }
   ],
   "source": [
    "plt.imshow(face)\n",
    "h,w,c = face.shape\n",
    "x = skimage.transform.resize(face, (227, 227),mode='reflect')\n",
    "plt.imshow(x)"
   ]
  },
  {
   "cell_type": "code",
   "execution_count": 18,
   "metadata": {},
   "outputs": [
    {
     "name": "stdout",
     "output_type": "stream",
     "text": [
      "(227, 227, 3)\n"
     ]
    }
   ],
   "source": [
    "print(x.shape)"
   ]
  },
  {
   "cell_type": "code",
   "execution_count": 22,
   "metadata": {},
   "outputs": [
    {
     "data": {
      "text/plain": [
       "<matplotlib.image.AxesImage at 0x23fe0aa3e80>"
      ]
     },
     "execution_count": 22,
     "metadata": {},
     "output_type": "execute_result"
    }
   ],
   "source": [
    "plt.imshow(x)"
   ]
  },
  {
   "cell_type": "code",
   "execution_count": 25,
   "metadata": {},
   "outputs": [
    {
     "data": {
      "image/png": "[encoded data removed]",
      "text/plain": [
       "<matplotlib.figure.Figure at 0x23fe0a34048>"
      ]
     },
     "metadata": {},
     "output_type": "display_data"
    }
   ],
   "source": [
    "plt.show()"
   ]
  },
  {
   "cell_type": "code",
   "execution_count": null,
   "metadata": {
    "collapsed": true
   },
   "outputs": [],
   "source": []
  }
 ],
 "metadata": {
  "kernelspec": {
   "display_name": "Python 3",
   "language": "python",
   "name": "python3"
  },
  "language_info": {
   "codemirror_mode": {
    "name": "ipython",
    "version": 3
   },
   "file_extension": ".py",
   "mimetype": "text/x-python",
   "name": "python",
   "nbconvert_exporter": "python",
   "pygments_lexer": "ipython3",
   "version": "3.6.1"
  }
 },
 "nbformat": 4,
 "nbformat_minor": 2
}
